{
 "cells": [
  {
   "cell_type": "code",
   "execution_count": 1,
   "metadata": {},
   "outputs": [],
   "source": [
    "import pandas as pd"
   ]
  },
  {
   "cell_type": "code",
   "execution_count": 2,
   "metadata": {},
   "outputs": [],
   "source": [
    "LINK = \"https://fbref.com/en/comps/9/schedule/Premier-League-Scores-and-Fixtures\""
   ]
  },
  {
   "cell_type": "markdown",
   "metadata": {},
   "source": [
    "### pipe"
   ]
  },
  {
   "cell_type": "code",
   "execution_count": 3,
   "metadata": {},
   "outputs": [],
   "source": [
    "def get_table(link:str) -> pd.DataFrame:\n",
    "    html_data:list[pd.DataFrame] = pd.read_html(LINK)\n",
    "    return html_data[0]"
   ]
  },
  {
   "cell_type": "code",
   "execution_count": 21,
   "metadata": {},
   "outputs": [],
   "source": [
    "def dropna(df:pd.DataFrame, drop_based_on:str) -> pd.DataFrame:\n",
    "    return df.dropna(subset=drop_based_on).copy()"
   ]
  },
  {
   "cell_type": "code",
   "execution_count": 14,
   "metadata": {},
   "outputs": [],
   "source": [
    "def drop_columns(df:pd.DataFrame, columns_to_drop:list[str]) -> pd.DataFrame:\n",
    "    return df.drop(columns=columns_to_drop)"
   ]
  },
  {
   "cell_type": "code",
   "execution_count": 15,
   "metadata": {},
   "outputs": [],
   "source": [
    "def extract_teams_score(df:pd.DataFrame, score_column:str) -> pd.DataFrame:\n",
    "    df[['home_score', 'away_score']] = df[score_column].str.split(pat='–',expand=True).astype('float16')\n",
    "    return df"
   ]
  },
  {
   "cell_type": "code",
   "execution_count": 16,
   "metadata": {},
   "outputs": [],
   "source": [
    "def calculate_teams_points(home_score:float, away_score:float, calc_for_team:str='home') -> pd.DataFrame:\n",
    "    if calc_for_team == 'home':\n",
    "        if home_score > away_score:\n",
    "            return 3\n",
    "        if home_score == away_score:\n",
    "            return 1\n",
    "        return 0 \n",
    "    if calc_for_team == 'away':\n",
    "        if home_score < away_score:\n",
    "            return 3\n",
    "        if home_score == away_score:\n",
    "            return 1\n",
    "        return 0 "
   ]
  },
  {
   "cell_type": "code",
   "execution_count": 17,
   "metadata": {},
   "outputs": [],
   "source": [
    "def extract_teams_points(df:pd.DataFrame, home_score_column:str, away_score_columns:str, calc_for_team:str='home') -> pd.DataFrame:\n",
    "    temp_series =  df[[home_score_column, away_score_columns]].apply(lambda row: calculate_teams_points(row[home_score_column], row[away_score_columns], calc_for_team), axis=1)\n",
    "    df[f'{calc_for_team}_points'] = pd.DataFrame(temp_series)\n",
    "    return df"
   ]
  },
  {
   "cell_type": "code",
   "execution_count": 8,
   "metadata": {},
   "outputs": [],
   "source": [
    "def create_datatime(df:pd.DataFrame, date_column:str, time_column:str):\n",
    "    df['datetime'] = pd.to_datetime(df['Date'] + ' ' + df['Time'])\n",
    "    return df"
   ]
  },
  {
   "cell_type": "code",
   "execution_count": 80,
   "metadata": {},
   "outputs": [],
   "source": [
    "def create_race_table(df:pd.DataFrame) -> pd.DataFrame:\n",
    "    teams_set:set[str] = {*df['Home'].unique().tolist(), *df['Away'].unique().tolist(),}\n",
    "    new_tables_list:list[pd.DataFrame] = []\n",
    "    \n",
    "    for team in teams_set:\n",
    "\n",
    "        team_table:pd.DataFrame =  df.query(f' Home == \"{team}\" or Away == \"{team}\" ').copy()\n",
    "        match_order:pd.Series = team_table['datetime'].rank()\n",
    "        points:pd.Series = team_table.apply(lambda row: row['home_points'] if row['Home'] == '{team}' else row['away_points'], axis=1)\n",
    "        points_cum:pd.Series = points.cumsum()\n",
    "\n",
    "        new_tables_list.append(\n",
    "            pd.DataFrame({\n",
    "            'team_nam': team,\n",
    "            'match_order':match_order,\n",
    "            'points': points,\n",
    "            'points_cum': points_cum,\n",
    "            }))\n",
    "        \n",
    "    return pd.concat(new_tables_list)\n"
   ]
  },
  {
   "cell_type": "code",
   "execution_count": 81,
   "metadata": {},
   "outputs": [],
   "source": [
    "pl_table = get_table(LINK)\n",
    "pl_table = (\n",
    "pl_table\n",
    "    .pipe(dropna, 'Score')\n",
    "    .pipe(extract_teams_score, 'Score')\n",
    "    .pipe(extract_teams_points, 'home_score', 'away_score', 'home')\n",
    "    .pipe(extract_teams_points, 'home_score', 'away_score', 'away')\n",
    "    .pipe(create_datatime, 'Date', 'Time')\n",
    "    .pipe(drop_columns, ['Wk', 'Day', 'Venue', 'Referee', 'Match Report', 'Notes', 'Date', 'Time'])\n",
    "    .pipe(create_race_table)\n",
    ")"
   ]
  },
  {
   "cell_type": "code",
   "execution_count": 82,
   "metadata": {},
   "outputs": [
    {
     "data": {
      "text/html": [
       "<div>\n",
       "<style scoped>\n",
       "    .dataframe tbody tr th:only-of-type {\n",
       "        vertical-align: middle;\n",
       "    }\n",
       "\n",
       "    .dataframe tbody tr th {\n",
       "        vertical-align: top;\n",
       "    }\n",
       "\n",
       "    .dataframe thead th {\n",
       "        text-align: right;\n",
       "    }\n",
       "</style>\n",
       "<table border=\"1\" class=\"dataframe\">\n",
       "  <thead>\n",
       "    <tr style=\"text-align: right;\">\n",
       "      <th></th>\n",
       "      <th>team_nam</th>\n",
       "      <th>match_order</th>\n",
       "      <th>points</th>\n",
       "      <th>points_cum</th>\n",
       "    </tr>\n",
       "  </thead>\n",
       "  <tbody>\n",
       "    <tr>\n",
       "      <th>1</th>\n",
       "      <td>Nott'ham Forest</td>\n",
       "      <td>1.0</td>\n",
       "      <td>0</td>\n",
       "      <td>0</td>\n",
       "    </tr>\n",
       "    <tr>\n",
       "      <th>11</th>\n",
       "      <td>Nott'ham Forest</td>\n",
       "      <td>2.0</td>\n",
       "      <td>0</td>\n",
       "      <td>0</td>\n",
       "    </tr>\n",
       "    <tr>\n",
       "      <th>25</th>\n",
       "      <td>Nott'ham Forest</td>\n",
       "      <td>3.0</td>\n",
       "      <td>0</td>\n",
       "      <td>0</td>\n",
       "    </tr>\n",
       "    <tr>\n",
       "      <th>34</th>\n",
       "      <td>Nott'ham Forest</td>\n",
       "      <td>4.0</td>\n",
       "      <td>3</td>\n",
       "      <td>3</td>\n",
       "    </tr>\n",
       "    <tr>\n",
       "      <th>52</th>\n",
       "      <td>Nott'ham Forest</td>\n",
       "      <td>5.0</td>\n",
       "      <td>1</td>\n",
       "      <td>4</td>\n",
       "    </tr>\n",
       "    <tr>\n",
       "      <th>...</th>\n",
       "      <td>...</td>\n",
       "      <td>...</td>\n",
       "      <td>...</td>\n",
       "      <td>...</td>\n",
       "    </tr>\n",
       "    <tr>\n",
       "      <th>6</th>\n",
       "      <td>Newcastle Utd</td>\n",
       "      <td>1.0</td>\n",
       "      <td>0</td>\n",
       "      <td>0</td>\n",
       "    </tr>\n",
       "    <tr>\n",
       "      <th>16</th>\n",
       "      <td>Newcastle Utd</td>\n",
       "      <td>2.0</td>\n",
       "      <td>0</td>\n",
       "      <td>0</td>\n",
       "    </tr>\n",
       "    <tr>\n",
       "      <th>30</th>\n",
       "      <td>Newcastle Utd</td>\n",
       "      <td>3.0</td>\n",
       "      <td>3</td>\n",
       "      <td>3</td>\n",
       "    </tr>\n",
       "    <tr>\n",
       "      <th>38</th>\n",
       "      <td>Newcastle Utd</td>\n",
       "      <td>4.0</td>\n",
       "      <td>0</td>\n",
       "      <td>3</td>\n",
       "    </tr>\n",
       "    <tr>\n",
       "      <th>49</th>\n",
       "      <td>Newcastle Utd</td>\n",
       "      <td>5.0</td>\n",
       "      <td>0</td>\n",
       "      <td>3</td>\n",
       "    </tr>\n",
       "  </tbody>\n",
       "</table>\n",
       "<p>108 rows × 4 columns</p>\n",
       "</div>"
      ],
      "text/plain": [
       "           team_nam  match_order  points  points_cum\n",
       "1   Nott'ham Forest          1.0       0           0\n",
       "11  Nott'ham Forest          2.0       0           0\n",
       "25  Nott'ham Forest          3.0       0           0\n",
       "34  Nott'ham Forest          4.0       3           3\n",
       "52  Nott'ham Forest          5.0       1           4\n",
       "..              ...          ...     ...         ...\n",
       "6     Newcastle Utd          1.0       0           0\n",
       "16    Newcastle Utd          2.0       0           0\n",
       "30    Newcastle Utd          3.0       3           3\n",
       "38    Newcastle Utd          4.0       0           3\n",
       "49    Newcastle Utd          5.0       0           3\n",
       "\n",
       "[108 rows x 4 columns]"
      ]
     },
     "execution_count": 82,
     "metadata": {},
     "output_type": "execute_result"
    }
   ],
   "source": [
    "pl_table\n"
   ]
  },
  {
   "cell_type": "code",
   "execution_count": null,
   "metadata": {},
   "outputs": [],
   "source": []
  }
 ],
 "metadata": {
  "kernelspec": {
   "display_name": "Python 3",
   "language": "python",
   "name": "python3"
  },
  "language_info": {
   "codemirror_mode": {
    "name": "ipython",
    "version": 3
   },
   "file_extension": ".py",
   "mimetype": "text/x-python",
   "name": "python",
   "nbconvert_exporter": "python",
   "pygments_lexer": "ipython3",
   "version": "3.10.12"
  },
  "orig_nbformat": 4
 },
 "nbformat": 4,
 "nbformat_minor": 2
}
